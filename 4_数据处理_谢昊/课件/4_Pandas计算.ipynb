{
 "cells": [
  {
   "cell_type": "markdown",
   "metadata": {},
   "source": [
    "# Pandas计算（常用内建函数）"
   ]
  },
  {
   "cell_type": "markdown",
   "metadata": {},
   "source": [
    "## pct_change()\n",
    "计算百分比变化Percentage Change"
   ]
  },
  {
   "cell_type": "code",
   "execution_count": 1,
   "metadata": {},
   "outputs": [],
   "source": [
    "import pandas as pd\n",
    "import warnings\n",
    "warnings.filterwarnings('ignore')\n",
    "\n",
    "stock1 = pd.read_excel('sz50.xlsx',sheetname='600036.XSHG', index_col='datetime')"
   ]
  },
  {
   "cell_type": "code",
   "execution_count": 2,
   "metadata": {},
   "outputs": [],
   "source": [
    "one_day_change = stock1.close.pct_change()\n",
    "five_day_change = stock1.close.pct_change(5)\n",
    "ten_day_change = stock1.close.pct_change(10)"
   ]
  },
  {
   "cell_type": "code",
   "execution_count": 3,
   "metadata": {},
   "outputs": [
    {
     "data": {
      "text/plain": [
       "<matplotlib.figure.Figure at 0x214b78fc128>"
      ]
     },
     "metadata": {},
     "output_type": "display_data"
    }
   ],
   "source": [
    "import matplotlib.pyplot as plt\n",
    "\n",
    "plt.figure(figsize=(15,7))\n",
    "plt.plot(one_day_change.iloc[-50:], label='one')\n",
    "plt.plot(five_day_change.iloc[-50:], label='five')\n",
    "plt.plot(ten_day_change.iloc[-50:], label='ten')\n",
    "plt.legend()\n",
    "plt.show()"
   ]
  },
  {
   "cell_type": "markdown",
   "metadata": {},
   "source": [
    "## cov()\n",
    "计算协方差Covariance"
   ]
  },
  {
   "cell_type": "code",
   "execution_count": 4,
   "metadata": {},
   "outputs": [],
   "source": [
    "stock2 = pd.read_excel('sz50.xlsx',sheetname='600050.XSHG', index_col='datetime')\n",
    "stock3 = pd.read_excel('sz50.xlsx',sheetname='601318.XSHG', index_col='datetime')"
   ]
  },
  {
   "cell_type": "code",
   "execution_count": 5,
   "metadata": {},
   "outputs": [],
   "source": [
    "five_day_df = pd.concat([stock1.close.pct_change(5),stock2.close.pct_change(5),stock3.close.pct_change(5)],keys=['stock1','stock2','stock3'],axis=1)"
   ]
  },
  {
   "cell_type": "code",
   "execution_count": 6,
   "metadata": {},
   "outputs": [
    {
     "name": "stdout",
     "output_type": "stream",
     "text": [
      "                       stock1    stock2    stock3\n",
      "datetime                                         \n",
      "2017-11-14 15:00:00  0.036622 -0.014538  0.077249\n",
      "2017-11-15 15:00:00  0.029140  0.018947  0.071039\n",
      "2017-11-16 15:00:00  0.038049 -0.029293  0.100700\n",
      "2017-11-17 15:00:00  0.085355 -0.034102  0.076982\n",
      "2017-11-20 15:00:00  0.103342 -0.016064  0.079239\n"
     ]
    }
   ],
   "source": [
    "print(five_day_df.tail())"
   ]
  },
  {
   "cell_type": "code",
   "execution_count": 7,
   "metadata": {},
   "outputs": [
    {
     "name": "stdout",
     "output_type": "stream",
     "text": [
      "          stock1    stock2    stock3\n",
      "stock1  0.001271  0.000139  0.000806\n",
      "stock2  0.000139  0.003739  0.000608\n",
      "stock3  0.000806  0.000608  0.001203\n"
     ]
    }
   ],
   "source": [
    "print(five_day_df.cov())"
   ]
  },
  {
   "cell_type": "markdown",
   "metadata": {},
   "source": [
    "## corr()\n",
    "计算相关系数Correlation"
   ]
  },
  {
   "cell_type": "code",
   "execution_count": 8,
   "metadata": {},
   "outputs": [
    {
     "name": "stdout",
     "output_type": "stream",
     "text": [
      "          stock1    stock2    stock3\n",
      "stock1  1.000000  0.085415  0.652129\n",
      "stock2  0.085415  1.000000  0.315773\n",
      "stock3  0.652129  0.315773  1.000000\n"
     ]
    }
   ],
   "source": [
    "# 相关系数\n",
    "correlation = five_day_df.corr()\n",
    "print(correlation)"
   ]
  },
  {
   "cell_type": "code",
   "execution_count": 9,
   "metadata": {},
   "outputs": [
    {
     "name": "stdout",
     "output_type": "stream",
     "text": [
      "          stock1    stock2    stock3\n",
      "stock1  1.000000 -0.003432  0.659493\n",
      "stock2 -0.003432  1.000000  0.165067\n",
      "stock3  0.659493  0.165067  1.000000\n"
     ]
    }
   ],
   "source": [
    "# spearman排序相关性\n",
    "spearman = five_day_df.corr(method='spearman')\n",
    "print(spearman)"
   ]
  },
  {
   "cell_type": "markdown",
   "metadata": {},
   "source": [
    "## rank()\n",
    "数据排序"
   ]
  },
  {
   "cell_type": "code",
   "execution_count": 10,
   "metadata": {},
   "outputs": [
    {
     "name": "stdout",
     "output_type": "stream",
     "text": [
      "                       stock1    stock2    stock3\n",
      "datetime                                         \n",
      "2017-11-14 15:00:00  0.036622 -0.014538  0.077249\n",
      "2017-11-15 15:00:00  0.029140  0.018947  0.071039\n",
      "2017-11-16 15:00:00  0.038049 -0.029293  0.100700\n",
      "2017-11-17 15:00:00  0.085355 -0.034102  0.076982\n",
      "2017-11-20 15:00:00  0.103342 -0.016064  0.079239\n"
     ]
    }
   ],
   "source": [
    "print(five_day_df.tail())"
   ]
  },
  {
   "cell_type": "code",
   "execution_count": 11,
   "metadata": {},
   "outputs": [
    {
     "name": "stdout",
     "output_type": "stream",
     "text": [
      "                     stock1  stock2  stock3\n",
      "datetime                                   \n",
      "2017-11-14 15:00:00     2.0     4.0     3.0\n",
      "2017-11-15 15:00:00     1.0     5.0     1.0\n",
      "2017-11-16 15:00:00     3.0     2.0     5.0\n",
      "2017-11-17 15:00:00     4.0     1.0     2.0\n",
      "2017-11-20 15:00:00     5.0     3.0     4.0\n"
     ]
    }
   ],
   "source": [
    "# 正向纵序\n",
    "print(five_day_df.tail().rank(axis=0))"
   ]
  },
  {
   "cell_type": "code",
   "execution_count": 12,
   "metadata": {},
   "outputs": [
    {
     "name": "stdout",
     "output_type": "stream",
     "text": [
      "                     stock1  stock2  stock3\n",
      "datetime                                   \n",
      "2017-11-14 15:00:00     2.0     3.0     1.0\n",
      "2017-11-15 15:00:00     2.0     3.0     1.0\n",
      "2017-11-16 15:00:00     2.0     3.0     1.0\n",
      "2017-11-17 15:00:00     1.0     3.0     2.0\n",
      "2017-11-20 15:00:00     1.0     3.0     2.0\n"
     ]
    }
   ],
   "source": [
    "#横向倒序\n",
    "print(five_day_df.rank(axis=1, ascending=False).tail())"
   ]
  },
  {
   "cell_type": "markdown",
   "metadata": {},
   "source": [
    "## rolling()\n",
    "滚动计算"
   ]
  },
  {
   "cell_type": "code",
   "execution_count": 13,
   "metadata": {},
   "outputs": [],
   "source": [
    "rolling = stock1.close.rolling(window=20)"
   ]
  },
  {
   "cell_type": "code",
   "execution_count": 14,
   "metadata": {},
   "outputs": [
    {
     "name": "stdout",
     "output_type": "stream",
     "text": [
      "datetime\n",
      "2017-11-14 15:00:00    108.1320\n",
      "2017-11-15 15:00:00    108.2855\n",
      "2017-11-16 15:00:00    108.4850\n",
      "2017-11-17 15:00:00    109.0060\n",
      "2017-11-20 15:00:00    109.8100\n",
      "Name: close, dtype: float64\n"
     ]
    }
   ],
   "source": [
    "print(rolling.mean().tail())"
   ]
  },
  {
   "cell_type": "code",
   "execution_count": 15,
   "metadata": {},
   "outputs": [
    {
     "data": {
      "image/png": "[encoded data removed]",
      "text/plain": [
       "<matplotlib.figure.Figure at 0x214b9ef15c0>"
      ]
     },
     "metadata": {},
     "output_type": "display_data"
    }
   ],
   "source": [
    "plt.figure(figsize=(15,7))\n",
    "plt.plot(rolling.mean())\n",
    "plt.plot(stock1.close)\n",
    "plt.show()"
   ]
  },
  {
   "cell_type": "markdown",
   "metadata": {},
   "source": [
    "## apply()\n",
    "调用自定义函数"
   ]
  },
  {
   "cell_type": "code",
   "execution_count": 16,
   "metadata": {},
   "outputs": [
    {
     "name": "stdout",
     "output_type": "stream",
     "text": [
      "                     close   high    low   open      volume\n",
      "datetime                                                   \n",
      "2017-11-14 15:00:00   5.63   5.63   5.70   4.83  45715400.0\n",
      "2017-11-15 15:00:00   5.63   5.63   5.70   5.55  45715400.0\n",
      "2017-11-16 15:00:00   5.95   5.63   5.70   5.55  45599200.0\n",
      "2017-11-17 15:00:00  11.06  10.17   8.06   6.83  55576000.0\n",
      "2017-11-20 15:00:00  13.96  13.92  10.34  10.82  55576000.0\n"
     ]
    }
   ],
   "source": [
    "import numpy as np\n",
    "\n",
    "def cal_range(array):\n",
    "    return array.max() - array.min()\n",
    "\n",
    "print(stock1.rolling(10).apply(cal_range).tail())"
   ]
  },
  {
   "cell_type": "markdown",
   "metadata": {},
   "source": [
    "## Computing rolling pairwise covariances and correlations"
   ]
  },
  {
   "cell_type": "code",
   "execution_count": 17,
   "metadata": {},
   "outputs": [
    {
     "name": "stdout",
     "output_type": "stream",
     "text": [
      "                              stock1    stock2    stock3\n",
      "datetime                                                \n",
      "2017-11-17 15:00:00 stock1  0.000743  0.000248  0.000773\n",
      "                    stock2  0.000248  0.001945  0.000923\n",
      "                    stock3  0.000773  0.000923  0.001420\n",
      "2017-11-20 15:00:00 stock1  0.000931  0.000207  0.000865\n",
      "                    stock2  0.000207  0.001925  0.000875\n",
      "                    stock3  0.000865  0.000875  0.001438\n"
     ]
    }
   ],
   "source": [
    "## 50天滚动的五日收益协方差\n",
    "\n",
    "cov_50 = five_day_df.rolling(50).cov()\n",
    "\n",
    "print(cov_50.tail(6))"
   ]
  },
  {
   "cell_type": "code",
   "execution_count": 18,
   "metadata": {},
   "outputs": [
    {
     "name": "stdout",
     "output_type": "stream",
     "text": [
      "                              stock1    stock2    stock3\n",
      "datetime                                                \n",
      "2017-11-17 15:00:00 stock1  1.000000  0.206307  0.752711\n",
      "                    stock2  0.206307  1.000000  0.555120\n",
      "                    stock3  0.752711  0.555120  1.000000\n",
      "2017-11-20 15:00:00 stock1  1.000000  0.154276  0.747151\n",
      "                    stock2  0.154276  1.000000  0.525728\n",
      "                    stock3  0.747151  0.525728  1.000000\n"
     ]
    }
   ],
   "source": [
    "## 50天滚动的五日收益相关性\n",
    "\n",
    "corr_50 = five_day_df.rolling(50,).corr()\n",
    "print(corr_50.tail(6))"
   ]
  },
  {
   "cell_type": "code",
   "execution_count": 19,
   "metadata": {},
   "outputs": [
    {
     "data": {
      "image/png": "[encoded data removed]",
      "text/plain": [
       "<matplotlib.figure.Figure at 0x214ba1916a0>"
      ]
     },
     "metadata": {},
     "output_type": "display_data"
    }
   ],
   "source": [
    "plt.figure(figsize=(15,7))\n",
    "plt.plot(corr_50.unstack()['stock1','stock3'])\n",
    "plt.show()"
   ]
  },
  {
   "cell_type": "markdown",
   "metadata": {},
   "source": [
    "## aggregate\n",
    "聚合，主要用于处理数据运算(诸如统计平均值,求和等)，并返回计算后的运算结果。"
   ]
  },
  {
   "cell_type": "code",
   "execution_count": 20,
   "metadata": {},
   "outputs": [
    {
     "name": "stdout",
     "output_type": "stream",
     "text": [
      "                       stock1    stock2    stock3\n",
      "datetime                                         \n",
      "2017-11-14 15:00:00  0.025171  0.478886  0.434446\n",
      "2017-11-15 15:00:00  0.050571  0.396198  0.438228\n",
      "2017-11-16 15:00:00  0.071251  0.293819  0.494201\n",
      "2017-11-17 15:00:00  0.193616  0.243951  0.563012\n",
      "2017-11-20 15:00:00  0.339433  0.238697  0.643087\n"
     ]
    }
   ],
   "source": [
    "# 对多只股票进行求和\n",
    "import numpy as np\n",
    "sum_agg = five_day_df.rolling(10).aggregate(np.sum)\n",
    "print(sum_agg.tail())"
   ]
  },
  {
   "cell_type": "code",
   "execution_count": 21,
   "metadata": {},
   "outputs": [
    {
     "name": "stdout",
     "output_type": "stream",
     "text": [
      "                          sum      mean       std\n",
      "datetime                                         \n",
      "2017-11-14 15:00:00  0.025171  0.002517  0.026701\n",
      "2017-11-15 15:00:00  0.050571  0.005057  0.028006\n",
      "2017-11-16 15:00:00  0.071251  0.007125  0.029727\n",
      "2017-11-17 15:00:00  0.193616  0.019362  0.034364\n",
      "2017-11-20 15:00:00  0.339433  0.033943  0.036102\n"
     ]
    }
   ],
   "source": [
    "# 对stock1进行多个不同的计算\n",
    "multi_agg = five_day_df.stock1.rolling(10).agg([np.sum, np.mean, np.std])\n",
    "print(multi_agg.tail())"
   ]
  },
  {
   "cell_type": "code",
   "execution_count": 22,
   "metadata": {},
   "outputs": [
    {
     "name": "stdout",
     "output_type": "stream",
     "text": [
      "                       stock1    stock2    stock3\n",
      "datetime                                         \n",
      "2017-11-14 15:00:00  0.171306  0.049099  0.046782\n",
      "2017-11-15 15:00:00  0.159352  0.048760  0.047016\n",
      "2017-11-16 15:00:00  0.169747  0.046769  0.049882\n",
      "2017-11-17 15:00:00  0.233389  0.046673  0.052029\n",
      "2017-11-20 15:00:00  0.350535  0.046850  0.053621\n"
     ]
    }
   ],
   "source": [
    "# 针对不要数据用不同算法\n",
    "multi_algo = five_day_df.rolling(20).agg({'stock1' : np.sum,\n",
    "       'stock2' : np.std,\n",
    "       'stock3' : np.mean})\n",
    "\n",
    "print(multi_algo.tail())"
   ]
  },
  {
   "cell_type": "code",
   "execution_count": 23,
   "metadata": {},
   "outputs": [
    {
     "name": "stdout",
     "output_type": "stream",
     "text": [
      "              high     low   close    open\n",
      "datetime                                  \n",
      "2017-10-29  112.29  105.38  112.13  106.66\n",
      "2017-11-05  111.93  106.22  107.98  111.05\n",
      "2017-11-12  109.49  104.87  108.02  107.34\n",
      "2017-11-19  117.67  108.46  117.24  108.46\n",
      "2017-11-26  122.50  116.20  121.82  116.92\n"
     ]
    }
   ],
   "source": [
    "# resample成周线后用agg获取所需要的数据\n",
    "print(stock1.resample('W').agg({'high':'max','low':'min', 'close':'last', 'open':'first'}).tail())"
   ]
  },
  {
   "cell_type": "markdown",
   "metadata": {},
   "source": [
    "## expanding\n",
    "expanding不会返回NaN，功能与rolling相似。"
   ]
  },
  {
   "cell_type": "code",
   "execution_count": 24,
   "metadata": {},
   "outputs": [],
   "source": [
    "sn = pd.Series([1, 2, np.nan, 3, np.nan, 4])"
   ]
  },
  {
   "cell_type": "code",
   "execution_count": 25,
   "metadata": {},
   "outputs": [
    {
     "name": "stdout",
     "output_type": "stream",
     "text": [
      "0     1.0\n",
      "1     3.0\n",
      "2     3.0\n",
      "3     6.0\n",
      "4     6.0\n",
      "5    10.0\n",
      "dtype: float64\n"
     ]
    }
   ],
   "source": [
    "print(sn.expanding().sum())"
   ]
  },
  {
   "cell_type": "code",
   "execution_count": 26,
   "metadata": {},
   "outputs": [
    {
     "name": "stdout",
     "output_type": "stream",
     "text": [
      "0     1.0\n",
      "1     3.0\n",
      "2     NaN\n",
      "3     6.0\n",
      "4     NaN\n",
      "5    10.0\n",
      "dtype: float64\n"
     ]
    }
   ],
   "source": [
    "print(sn.cumsum())"
   ]
  },
  {
   "cell_type": "code",
   "execution_count": 27,
   "metadata": {},
   "outputs": [
    {
     "name": "stdout",
     "output_type": "stream",
     "text": [
      "0     1.0\n",
      "1     3.0\n",
      "2     3.0\n",
      "3     6.0\n",
      "4     6.0\n",
      "5    10.0\n",
      "dtype: float64\n"
     ]
    }
   ],
   "source": [
    "print(sn.cumsum().fillna(method='ffill'))"
   ]
  }
 ],
 "metadata": {
  "kernelspec": {
   "display_name": "Python 3",
   "language": "python",
   "name": "python3"
  },
  "language_info": {
   "codemirror_mode": {
    "name": "ipython",
    "version": 3
   },
   "file_extension": ".py",
   "mimetype": "text/x-python",
   "name": "python",
   "nbconvert_exporter": "python",
   "pygments_lexer": "ipython3",
   "version": "3.6.5"
  }
 },
 "nbformat": 4,
 "nbformat_minor": 2
}
