{
 "cells": [
  {
   "cell_type": "markdown",
   "metadata": {},
   "source": [
    "# 24点游戏"
   ]
  },
  {
   "cell_type": "code",
   "execution_count": 1,
   "metadata": {
    "scrolled": true
   },
   "outputs": [
    {
     "name": "stdout",
     "output_type": "stream",
     "text": [
      "(1, 2, 3, 4)\n",
      "(2, 3, 4)\n",
      "(3, 4)\n",
      "(2, 3)\n",
      "1*(2*(3*4))\n",
      "\n"
     ]
    }
   ],
   "source": [
    "def compute(x,y,op):\n",
    "    if op=='+':return x+y\n",
    "    elif op=='*':return x*y\n",
    "    elif op=='-':return x-y\n",
    "    else:return x/y if y else None\n",
    "\n",
    "def exp(p,iter=0):\n",
    "    from itertools import permutations\n",
    "    if len(p)==1:return [(p[0],str(p[0]))]\n",
    "    operation = ['+','-','*','/']\n",
    "    ret = []\n",
    "    p = permutations(p) if iter==0 else [p]\n",
    "    for array_n in p:\n",
    "        print(array_n)\n",
    "        for num in range(1,len(array_n)):\n",
    "            ret1 = exp(array_n[:num],iter+1)\n",
    "            ret2 = exp(array_n[num:],iter+1)\n",
    "            for op in operation:\n",
    "                for va1,expression in ret1:\n",
    "                    if va1==None:continue\n",
    "                    for va2,expression2 in ret2:\n",
    "                        if va2==None:continue\n",
    "                        combined_exp = '{}{}' if expression.isalnum() else '({}){}'\n",
    "                        combined_exp += '{}' if expression2.isalnum() else '({})'\n",
    "                        new_val = compute(va1,va2,op)\n",
    "                        ret.append((new_val,combined_exp.format(expression,op,expression2)))\n",
    "                        if iter==0 and new_val==24:\n",
    "                            return ''.join(e+'\\n' for x,e in ret if x==24)\n",
    "    return ret\n",
    "print(exp([1,2,3,4]))"
   ]
  },
  {
   "cell_type": "markdown",
   "metadata": {},
   "source": [
    "# 猜大小游戏"
   ]
  },
  {
   "cell_type": "code",
   "execution_count": 2,
   "metadata": {
    "collapsed": true
   },
   "outputs": [],
   "source": [
    "import random\n",
    "\n",
    "def roll_dice(numbers = 3,points = None):\n",
    "    print('----摇骰子----')\n",
    "    if points is None:\n",
    "        points = []\n",
    "    while numbers > 0:\n",
    "        point = random.randrange(1,7)\n",
    "        points.append(point)\n",
    "        number-1\n",
    "    return points\n",
    "##"
   ]
  },
  {
   "cell_type": "code",
   "execution_count": 13,
   "metadata": {
    "scrolled": true
   },
   "outputs": [],
   "source": [
    "import random\n",
    "\n",
    "def roll_dice(numbers = 3,points = None):\n",
    "    print('----摇骰子----')\n",
    "    if points is None:\n",
    "        points = []\n",
    "    while numbers > 0:\n",
    "        point = random.randrange(1,7)\n",
    "        points.append(point)\n",
    "        numbers = numbers-1\n",
    "    return points\n",
    "\n",
    "def roll_result(total):\n",
    "    isBig = 11<=total<=18\n",
    "    isSmall = 3<=total<=10\n",
    "    if isBig:\n",
    "        return'大'\n",
    "    elif isSmall:\n",
    "        return'小'\n",
    "    \n",
    "def start_game():\n",
    "    your_money = 1000\n",
    "    while your_money>0:\n",
    "        print('----游戏开始----')\n",
    "        choices = ['大','小']\n",
    "        your_choice = input('请下注，大or小：')\n",
    "        your_bet = input('下注金额：')\n",
    "        if your_choice in choices:\n",
    "            points = roll_dice()\n",
    "            total = sum(points)\n",
    "            youWin = your_choice == roll_result(total)\n",
    "            if youWin:\n",
    "                print('money',  type(your_money))\n",
    "                print('恭喜你赢得了{}元，你现在有{}元本金'.format(int(your_bet),int(your_bet)+your_money))\n",
    "                your_money = your_money + int(your_bet)\n",
    "            else:\n",
    "                print('骰子点数：',points)\n",
    "                print('很遗憾，你输了{}元，你现在有{}元本金'.format((your_bet),your_money-int(your_bet)))\n",
    "                your_money = your_money - int(your_bet)\n",
    "        else:\n",
    "            print('格式有误,请重新输入')\n",
    "    else:\n",
    "        print('游戏结束')"
   ]
  },
  {
   "cell_type": "code",
   "execution_count": null,
   "metadata": {},
   "outputs": [
    {
     "name": "stdout",
     "output_type": "stream",
     "text": [
      "----游戏开始----\n",
      "请下注，大or小：大\n",
      "下注金额：100\n",
      "----摇骰子----\n",
      "骰子点数： [3, 6, 2]\n",
      "bet <class 'str'>\n",
      "money <class 'int'>\n",
      "恭喜你赢得了100元，你现在有1100元本金\n",
      "----游戏开始----\n"
     ]
    }
   ],
   "source": [
    "start_game()"
   ]
  },
  {
   "cell_type": "code",
   "execution_count": null,
   "metadata": {
    "collapsed": true
   },
   "outputs": [],
   "source": []
  }
 ],
 "metadata": {
  "kernelspec": {
   "display_name": "Python 3",
   "language": "python",
   "name": "python3"
  }
 },
 "nbformat": 4,
 "nbformat_minor": 2
}
